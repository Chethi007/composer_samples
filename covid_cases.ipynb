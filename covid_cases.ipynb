{
 "cells": [
  {
   "cell_type": "code",
   "execution_count": null,
   "metadata": {},
   "outputs": [],
   "source": [
    "%%bigquery\n",
    "create or replace procedure `data-lake-290221.covid19_confirmed.create_locations`()\n",
    "begin\n",
    "create or replace table `data-lake-290221.covid19_confirmed.locations` as\n",
    "select farm_fingerprint(concat(cast(latitude as string), cast(longitude as string))) as location_id, \n",
    "       province_state, country_region, latitude, longitude, location_geom\n",
    "from covid19_confirmed.raw_cases;\n",
    "end;"
   ]
  },
  {
   "cell_type": "code",
   "execution_count": null,
   "metadata": {},
   "outputs": [],
   "source": [
    "%%bigquery\n",
    "call `data-lake-290221.covid19_confirmed.create_locations`()"
   ]
  },
  {
   "cell_type": "code",
   "execution_count": null,
   "metadata": {},
   "outputs": [],
   "source": [
    "%%bigquery\n",
    "select * from data-lake-290221.covid19_confirmed.locations\n",
    "limit 10"
   ]
  },
  {
   "cell_type": "markdown",
   "metadata": {},
   "source": [
    "### Only run the beam pipeline locally through this notebook\n",
    "### To pipeline run in Dataflow, use terminal window "
   ]
  },
  {
   "cell_type": "code",
   "execution_count": 1,
   "metadata": {},
   "outputs": [
    {
     "name": "stderr",
     "output_type": "stream",
     "text": [
      "/home/jupyter/transpose_cases.py:53: BeamDeprecationWarning: BigQuerySource is deprecated since 2.25.0. Use ReadFromBigQuery instead.\n",
      "  bq_source = BigQuerySource(query=sql, use_standard_sql=True)\n"
     ]
    },
    {
     "data": {
      "application/javascript": [
       "\n",
       "        if (typeof window.interactive_beam_jquery == 'undefined') {\n",
       "          var jqueryScript = document.createElement('script');\n",
       "          jqueryScript.src = 'https://code.jquery.com/jquery-3.4.1.slim.min.js';\n",
       "          jqueryScript.type = 'text/javascript';\n",
       "          jqueryScript.onload = function() {\n",
       "            var datatableScript = document.createElement('script');\n",
       "            datatableScript.src = 'https://cdn.datatables.net/1.10.20/js/jquery.dataTables.min.js';\n",
       "            datatableScript.type = 'text/javascript';\n",
       "            datatableScript.onload = function() {\n",
       "              window.interactive_beam_jquery = jQuery.noConflict(true);\n",
       "              window.interactive_beam_jquery(document).ready(function($){\n",
       "                \n",
       "              });\n",
       "            }\n",
       "            document.head.appendChild(datatableScript);\n",
       "          };\n",
       "          document.head.appendChild(jqueryScript);\n",
       "        } else {\n",
       "          window.interactive_beam_jquery(document).ready(function($){\n",
       "            \n",
       "          });\n",
       "        }"
      ]
     },
     "metadata": {},
     "output_type": "display_data"
    },
    {
     "data": {
      "application/javascript": [
       "\n",
       "        var import_html = () => {\n",
       "          ['https://raw.githubusercontent.com/PAIR-code/facets/1.0.0/facets-dist/facets-jupyter.html'].forEach(href => {\n",
       "            var link = document.createElement('link');\n",
       "            link.rel = 'import'\n",
       "            link.href = href;\n",
       "            document.head.appendChild(link);\n",
       "          });\n",
       "        }\n",
       "        if ('import' in document.createElement('link')) {\n",
       "          import_html();\n",
       "        } else {\n",
       "          var webcomponentScript = document.createElement('script');\n",
       "          webcomponentScript.src = 'https://cdnjs.cloudflare.com/ajax/libs/webcomponentsjs/1.3.3/webcomponents-lite.js';\n",
       "          webcomponentScript.type = 'text/javascript';\n",
       "          webcomponentScript.onload = function(){\n",
       "            import_html();\n",
       "          };\n",
       "          document.head.appendChild(webcomponentScript);\n",
       "        }"
      ]
     },
     "metadata": {},
     "output_type": "display_data"
    },
    {
     "name": "stderr",
     "output_type": "stream",
     "text": [
      "/home/jupyter/venv/lib/python3.7/site-packages/apache_beam/io/gcp/bigquery.py:1971: BeamDeprecationWarning: options is deprecated since First stable release. References to <pipeline>.options will not be supported\n",
      "  temp_location = pcoll.pipeline.options.view_as(\n",
      "/home/jupyter/venv/lib/python3.7/site-packages/apache_beam/io/gcp/bigquery_file_loads.py:900: BeamDeprecationWarning: options is deprecated since First stable release. References to <pipeline>.options will not be supported\n",
      "  temp_location = p.options.view_as(GoogleCloudOptions).temp_location\n"
     ]
    }
   ],
   "source": [
    "%run transpose_cases.py"
   ]
  },
  {
   "cell_type": "code",
   "execution_count": 1,
   "metadata": {},
   "outputs": [
    {
     "data": {
      "text/html": [
       "<div>\n",
       "<style scoped>\n",
       "    .dataframe tbody tr th:only-of-type {\n",
       "        vertical-align: middle;\n",
       "    }\n",
       "\n",
       "    .dataframe tbody tr th {\n",
       "        vertical-align: top;\n",
       "    }\n",
       "\n",
       "    .dataframe thead th {\n",
       "        text-align: right;\n",
       "    }\n",
       "</style>\n",
       "<table border=\"1\" class=\"dataframe\">\n",
       "  <thead>\n",
       "    <tr style=\"text-align: right;\">\n",
       "      <th></th>\n",
       "    </tr>\n",
       "  </thead>\n",
       "  <tbody>\n",
       "  </tbody>\n",
       "</table>\n",
       "</div>"
      ],
      "text/plain": [
       "Empty DataFrame\n",
       "Columns: []\n",
       "Index: []"
      ]
     },
     "execution_count": 1,
     "metadata": {},
     "output_type": "execute_result"
    }
   ],
   "source": [
    "%%bigquery\n",
    "create or replace procedure `data-lake-290221.covid19_confirmed.create_aggregations`()\n",
    "begin\n",
    "  select location_id, country_region, province_state, date, avg_cases\n",
    "   from\n",
    "   (select l.location_id, l.province_state, l.country_region, c.date, avg(c.cases) as avg_cases\n",
    "   from covid19_confirmed.daily_cases c join covid19_confirmed.locations l\n",
    "   on c.location_id = l.location_id\n",
    "   group by l.location_id, l.province_state, l.country_region, c.date)\n",
    "   order by date;\n",
    "end;"
   ]
  },
  {
   "cell_type": "code",
   "execution_count": 2,
   "metadata": {},
   "outputs": [
    {
     "data": {
      "text/html": [
       "<div>\n",
       "<style scoped>\n",
       "    .dataframe tbody tr th:only-of-type {\n",
       "        vertical-align: middle;\n",
       "    }\n",
       "\n",
       "    .dataframe tbody tr th {\n",
       "        vertical-align: top;\n",
       "    }\n",
       "\n",
       "    .dataframe thead th {\n",
       "        text-align: right;\n",
       "    }\n",
       "</style>\n",
       "<table border=\"1\" class=\"dataframe\">\n",
       "  <thead>\n",
       "    <tr style=\"text-align: right;\">\n",
       "      <th></th>\n",
       "      <th>location_id</th>\n",
       "      <th>country_region</th>\n",
       "      <th>province_state</th>\n",
       "      <th>date</th>\n",
       "      <th>avg_cases</th>\n",
       "    </tr>\n",
       "  </thead>\n",
       "  <tbody>\n",
       "    <tr>\n",
       "      <th>0</th>\n",
       "      <td>-8917363289061832566</td>\n",
       "      <td>China</td>\n",
       "      <td>Chongqing</td>\n",
       "      <td>2020-01-22</td>\n",
       "      <td>6.0</td>\n",
       "    </tr>\n",
       "    <tr>\n",
       "      <th>1</th>\n",
       "      <td>6390168571513050285</td>\n",
       "      <td>China</td>\n",
       "      <td>Hubei</td>\n",
       "      <td>2020-01-22</td>\n",
       "      <td>444.0</td>\n",
       "    </tr>\n",
       "    <tr>\n",
       "      <th>2</th>\n",
       "      <td>4378140026320891257</td>\n",
       "      <td>China</td>\n",
       "      <td>Beijing</td>\n",
       "      <td>2020-01-22</td>\n",
       "      <td>14.0</td>\n",
       "    </tr>\n",
       "    <tr>\n",
       "      <th>3</th>\n",
       "      <td>7068774372673742706</td>\n",
       "      <td>China</td>\n",
       "      <td>Tianjin</td>\n",
       "      <td>2020-01-22</td>\n",
       "      <td>4.0</td>\n",
       "    </tr>\n",
       "    <tr>\n",
       "      <th>4</th>\n",
       "      <td>2912167951723785902</td>\n",
       "      <td>China</td>\n",
       "      <td>Zhejiang</td>\n",
       "      <td>2020-01-22</td>\n",
       "      <td>10.0</td>\n",
       "    </tr>\n",
       "    <tr>\n",
       "      <th>...</th>\n",
       "      <td>...</td>\n",
       "      <td>...</td>\n",
       "      <td>...</td>\n",
       "      <td>...</td>\n",
       "      <td>...</td>\n",
       "    </tr>\n",
       "    <tr>\n",
       "      <th>87205</th>\n",
       "      <td>-4341312630839217445</td>\n",
       "      <td>China</td>\n",
       "      <td>Qinghai</td>\n",
       "      <td>2020-12-09</td>\n",
       "      <td>18.0</td>\n",
       "    </tr>\n",
       "    <tr>\n",
       "      <th>87206</th>\n",
       "      <td>-615446845178709331</td>\n",
       "      <td>Canada</td>\n",
       "      <td>Grand Princess</td>\n",
       "      <td>2020-12-09</td>\n",
       "      <td>183.5</td>\n",
       "    </tr>\n",
       "    <tr>\n",
       "      <th>87207</th>\n",
       "      <td>-615446845178709331</td>\n",
       "      <td>Canada</td>\n",
       "      <td>Diamond Princess</td>\n",
       "      <td>2020-12-09</td>\n",
       "      <td>183.5</td>\n",
       "    </tr>\n",
       "    <tr>\n",
       "      <th>87208</th>\n",
       "      <td>-615446845178709331</td>\n",
       "      <td>MS Zaandam</td>\n",
       "      <td>None</td>\n",
       "      <td>2020-12-09</td>\n",
       "      <td>183.5</td>\n",
       "    </tr>\n",
       "    <tr>\n",
       "      <th>87209</th>\n",
       "      <td>-615446845178709331</td>\n",
       "      <td>Diamond Princess</td>\n",
       "      <td>None</td>\n",
       "      <td>2020-12-09</td>\n",
       "      <td>183.5</td>\n",
       "    </tr>\n",
       "  </tbody>\n",
       "</table>\n",
       "<p>87210 rows × 5 columns</p>\n",
       "</div>"
      ],
      "text/plain": [
       "               location_id    country_region    province_state        date  \\\n",
       "0     -8917363289061832566             China         Chongqing  2020-01-22   \n",
       "1      6390168571513050285             China             Hubei  2020-01-22   \n",
       "2      4378140026320891257             China           Beijing  2020-01-22   \n",
       "3      7068774372673742706             China           Tianjin  2020-01-22   \n",
       "4      2912167951723785902             China          Zhejiang  2020-01-22   \n",
       "...                    ...               ...               ...         ...   \n",
       "87205 -4341312630839217445             China           Qinghai  2020-12-09   \n",
       "87206  -615446845178709331            Canada    Grand Princess  2020-12-09   \n",
       "87207  -615446845178709331            Canada  Diamond Princess  2020-12-09   \n",
       "87208  -615446845178709331        MS Zaandam              None  2020-12-09   \n",
       "87209  -615446845178709331  Diamond Princess              None  2020-12-09   \n",
       "\n",
       "       avg_cases  \n",
       "0            6.0  \n",
       "1          444.0  \n",
       "2           14.0  \n",
       "3            4.0  \n",
       "4           10.0  \n",
       "...          ...  \n",
       "87205       18.0  \n",
       "87206      183.5  \n",
       "87207      183.5  \n",
       "87208      183.5  \n",
       "87209      183.5  \n",
       "\n",
       "[87210 rows x 5 columns]"
      ]
     },
     "execution_count": 2,
     "metadata": {},
     "output_type": "execute_result"
    }
   ],
   "source": [
    "%%bigquery\n",
    "call `data-lake-290221.covid19_confirmed.create_aggregations`()"
   ]
  },
  {
   "cell_type": "code",
   "execution_count": null,
   "metadata": {},
   "outputs": [],
   "source": []
  }
 ],
 "metadata": {
  "environment": {
   "name": "common-cpu.m59",
   "type": "gcloud",
   "uri": "gcr.io/deeplearning-platform-release/base-cpu:m59"
  },
  "kernelspec": {
   "display_name": "Python Beam",
   "language": "python",
   "name": "beam_kernel"
  },
  "language_info": {
   "codemirror_mode": {
    "name": "ipython",
    "version": 3
   },
   "file_extension": ".py",
   "mimetype": "text/x-python",
   "name": "python",
   "nbconvert_exporter": "python",
   "pygments_lexer": "ipython3",
   "version": "3.7.8"
  }
 },
 "nbformat": 4,
 "nbformat_minor": 4
}
